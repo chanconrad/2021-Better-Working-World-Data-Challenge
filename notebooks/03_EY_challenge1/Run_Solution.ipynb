{
 "cells": [
  {
   "cell_type": "markdown",
   "metadata": {},
   "source": [
    "This class breaks up the problem into 3 main sections:\n",
    "- ```match_data```: matching the linescans to polygons to create training data\n",
    "- ```error_fraction```: calculating the quality of a solution\n",
    "- ```mask```: function to determine whether a coordinate is on fire\n",
    "\n",
    "### Example:"
   ]
  },
  {
   "cell_type": "code",
   "execution_count": 3,
   "metadata": {},
   "outputs": [
    {
     "name": "stderr",
     "output_type": "stream",
     "text": [
      "/env/lib/python3.6/site-packages/geopandas/_compat.py:110: UserWarning: The Shapely GEOS version (3.7.2-CAPI-1.11.0 ) is incompatible with the GEOS version PyGEOS was compiled with (3.9.0-CAPI-1.16.2). Conversions between both will be slow.\n",
      "  shapely_geos_version, geos_capi_version_string\n"
     ]
    }
   ],
   "source": [
    "%load_ext autoreload\n",
    "%autoreload 2\n",
    "\n",
    "from solution import Threshold"
   ]
  },
  {
   "cell_type": "code",
   "execution_count": null,
   "metadata": {},
   "outputs": [],
   "source": [
    "# Simple threshold masking\n",
    "s = Threshold()\n",
    "\n",
    "# Example: set the threshold to an arbitrary value\n",
    "s.set_threshold(220) \n",
    "\n",
    "# Set kernel sizes\n",
    "s.set_open_kernel(1)\n",
    "s.set_close_kernel(64)\n",
    "\n",
    "# Match training data\n",
    "s.match_data()\n",
    "\n",
    "# Get error\n",
    "print('Error:', s.error_fraction())"
   ]
  },
  {
   "cell_type": "markdown",
   "metadata": {},
   "source": [
    "### Simple optimisation routine\n",
    "Try a range of thresholds and find the best one"
   ]
  },
  {
   "cell_type": "code",
   "execution_count": null,
   "metadata": {},
   "outputs": [],
   "source": [
    "error = 1.0\n",
    "\n",
    "s = Threshold()\n",
    "s.match_data()\n",
    "\n",
    "# Set all kernels=1\n",
    "s.set_open_kernel(1)\n",
    "s.set_close_kernel(1)\n",
    "\n",
    "print()\n",
    "\n",
    "for t in range(180, 220, 5):\n",
    "    s.set_threshold(t)\n",
    "    e = s.error_fraction()\n",
    "\n",
    "    if e < error:\n",
    "        error = e\n",
    "\n",
    "        print('Best solution so far:')\n",
    "        print(' threshold    = ', t)\n",
    "        print(' error        = ', error)\n",
    "        print()"
   ]
  },
  {
   "cell_type": "markdown",
   "metadata": {},
   "source": [
    "### SciPy Optimize\n",
    "Optimise for multiple variables"
   ]
  },
  {
   "cell_type": "code",
   "execution_count": 14,
   "metadata": {},
   "outputs": [
    {
     "name": "stdout",
     "output_type": "stream",
     "text": [
      "134 linescan datasets available\n",
      "129 training linescan datasets available\n",
      "37 linescans with matching polygons\n",
      "28.7% of linescans used\n",
      "45.0% of polygons used\n"
     ]
    }
   ],
   "source": [
    "s = Threshold()\n",
    "s.match_data()"
   ]
  },
  {
   "cell_type": "code",
   "execution_count": null,
   "metadata": {},
   "outputs": [],
   "source": [
    "from scipy import optimize\n",
    "import numpy as np\n",
    "\n",
    "def f(params):\n",
    "    t, kc = params\n",
    "\n",
    "    s.set_threshold(t)\n",
    "    s.set_close_kernel(kc)\n",
    "#     error = s.error_fraction()\n",
    "    error = -s.f1_score()\n",
    "    \n",
    "    print('{0: 3.2f}   {1: 3.2f}   {2: 3.4e}'.format(t, kc, error))\n",
    "\n",
    "    return error\n",
    "    \n",
    "initial_guess = [195, 64]\n",
    "initial_simplex = np.zeros((3, 2))\n",
    "initial_simplex[0,:] = [220, 800]\n",
    "initial_simplex[1,:] = [220, 900]\n",
    "initial_simplex[2,:] = [230, 900]\n",
    "\n",
    "result = optimize.minimize(f, initial_guess, method='Nelder-Mead', options={'disp': True, 'initial_simplex': initial_simplex})\n",
    "\n",
    "fitted_params = result.x\n",
    "print(fitted_params)\n",
    "    "
   ]
  },
  {
   "cell_type": "markdown",
   "metadata": {},
   "source": [
    "### Save the submission file"
   ]
  },
  {
   "cell_type": "code",
   "execution_count": 13,
   "metadata": {},
   "outputs": [],
   "source": [
    "s.set_threshold(227.94)\n",
    "s.set_close_kernel(922)\n",
    "s.error_fraction()\n",
    "s.generate_submission(f'submission_threshold_227_kc_922.csv')"
   ]
  },
  {
   "cell_type": "markdown",
   "metadata": {},
   "source": [
    "### Auto Threshold method\n",
    "Use the standard deviation from mean for a given linescan as the threshold"
   ]
  },
  {
   "cell_type": "code",
   "execution_count": null,
   "metadata": {},
   "outputs": [],
   "source": [
    "from solution import AutoThreshold\n",
    "\n",
    "s = AutoThreshold()\n",
    "\n",
    "# Set the threshold in terms of standard deviations\n",
    "s.set_threshold(1) \n",
    "\n",
    "# Set kernel size\n",
    "s.set_close_kernel(1)\n",
    "\n",
    "# Match training data\n",
    "s.match_data()\n",
    "\n",
    "# Get error\n",
    "print('Error:', s.error_fraction())"
   ]
  },
  {
   "cell_type": "markdown",
   "metadata": {},
   "source": [
    "### SciPy Optimize\n",
    "Optimise AutoThreshold for multiple variables"
   ]
  },
  {
   "cell_type": "code",
   "execution_count": 1,
   "metadata": {},
   "outputs": [
    {
     "name": "stderr",
     "output_type": "stream",
     "text": [
      "/env/lib/python3.6/site-packages/geopandas/_compat.py:110: UserWarning: The Shapely GEOS version (3.7.2-CAPI-1.11.0 ) is incompatible with the GEOS version PyGEOS was compiled with (3.9.0-CAPI-1.16.2). Conversions between both will be slow.\n",
      "  shapely_geos_version, geos_capi_version_string\n"
     ]
    },
    {
     "name": "stdout",
     "output_type": "stream",
     "text": [
      "134 linescan datasets available\n",
      "129 training linescan datasets available\n",
      "37 linescans with matching polygons\n",
      "28.7% of linescans used\n",
      "45.0% of polygons used\n"
     ]
    }
   ],
   "source": [
    "from solution import AutoThreshold\n",
    "s = AutoThreshold()\n",
    "s.match_data()"
   ]
  },
  {
   "cell_type": "code",
   "execution_count": null,
   "metadata": {},
   "outputs": [],
   "source": [
    "from scipy import optimize\n",
    "import numpy as np\n",
    "\n",
    "def f(params):\n",
    "    t, kc = params\n",
    "\n",
    "    s.set_threshold(t)\n",
    "    s.set_close_kernel(kc)\n",
    "    error = s.error_fraction()\n",
    "    \n",
    "    print('{0: 3.2f}   {1: 3.2f}   {2: 3.4e}'.format(t, kc, error))\n",
    "\n",
    "    return error\n",
    "    \n",
    "initial_guess = [1, 1]\n",
    "initial_simplex = np.zeros((3, 2))\n",
    "initial_simplex[0,:] = [1,  1  ]\n",
    "initial_simplex[1,:] = [1,  100]\n",
    "initial_simplex[2,:] = [10, 100]\n",
    "\n",
    "result = optimize.minimize(f, initial_guess, method='Nelder-Mead', options={'disp': True, 'initial_simplex': initial_simplex})\n",
    "\n",
    "fitted_params = result.x\n",
    "print(fitted_params)\n",
    "    "
   ]
  },
  {
   "cell_type": "code",
   "execution_count": 3,
   "metadata": {},
   "outputs": [],
   "source": [
    "s.set_threshold(5.92)\n",
    "s.set_close_kernel(81)\n",
    "s.error_fraction()\n",
    "s.generate_submission(f'submission_autothreshold_5.92_kc_81.csv')"
   ]
  },
  {
   "cell_type": "code",
   "execution_count": null,
   "metadata": {},
   "outputs": [],
   "source": []
  }
 ],
 "metadata": {
  "kernelspec": {
   "display_name": "Python 3",
   "language": "python",
   "name": "python3"
  },
  "language_info": {
   "codemirror_mode": {
    "name": "ipython",
    "version": 3
   },
   "file_extension": ".py",
   "mimetype": "text/x-python",
   "name": "python",
   "nbconvert_exporter": "python",
   "pygments_lexer": "ipython3",
   "version": "3.6.9"
  }
 },
 "nbformat": 4,
 "nbformat_minor": 4
}
