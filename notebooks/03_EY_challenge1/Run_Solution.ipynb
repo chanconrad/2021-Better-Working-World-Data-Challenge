{
 "cells": [
  {
   "cell_type": "markdown",
   "metadata": {},
   "source": [
    "This class breaks up the problem into 3 main sections:\n",
    "- ```match_data```: matching the linescans to polygons to create training data\n",
    "- ```error_fraction```: calculating the quality of a solution\n",
    "- ```mask```: function to determine whether a coordinate is on fire\n",
    "\n",
    "### Example:"
   ]
  },
  {
   "cell_type": "code",
   "execution_count": 2,
   "metadata": {},
   "outputs": [
    {
     "name": "stderr",
     "output_type": "stream",
     "text": [
      "/env/lib/python3.6/site-packages/geopandas/_compat.py:110: UserWarning: The Shapely GEOS version (3.7.2-CAPI-1.11.0 ) is incompatible with the GEOS version PyGEOS was compiled with (3.9.0-CAPI-1.16.2). Conversions between both will be slow.\n",
      "  shapely_geos_version, geos_capi_version_string\n"
     ]
    }
   ],
   "source": [
    "%load_ext autoreload\n",
    "%autoreload 2\n",
    "\n",
    "from solution import Threshold"
   ]
  },
  {
   "cell_type": "code",
   "execution_count": null,
   "metadata": {},
   "outputs": [],
   "source": [
    "# Simple threshold masking\n",
    "s = Threshold()\n",
    "\n",
    "# Example: set the threshold to an arbitrary value\n",
    "s.set_threshold(220) \n",
    "\n",
    "# Set kernel sizes\n",
    "s.set_open_kernel(1)\n",
    "s.set_close_kernel(64)\n",
    "\n",
    "# Match training data\n",
    "s.match_data()\n",
    "\n",
    "# Get error\n",
    "print('Error:', s.error_fraction())"
   ]
  },
  {
   "cell_type": "markdown",
   "metadata": {},
   "source": [
    "### Simple optimisation routine\n",
    "Try a range of thresholds and find the best one"
   ]
  },
  {
   "cell_type": "code",
   "execution_count": null,
   "metadata": {},
   "outputs": [],
   "source": [
    "error = 1.0\n",
    "\n",
    "s = Threshold()\n",
    "s.match_data()\n",
    "\n",
    "# Set all kernels=1\n",
    "s.set_open_kernel(1)\n",
    "s.set_close_kernel(1)\n",
    "\n",
    "print()\n",
    "\n",
    "for t in range(180, 220, 5):\n",
    "    s.set_threshold(t)\n",
    "    e = s.error_fraction()\n",
    "\n",
    "    if e < error:\n",
    "        error = e\n",
    "\n",
    "        print('Best solution so far:')\n",
    "        print(' threshold    = ', t)\n",
    "        print(' error        = ', error)\n",
    "        print()"
   ]
  },
  {
   "cell_type": "markdown",
   "metadata": {},
   "source": [
    "### SciPy Optimize\n",
    "Optimise for multiple variables"
   ]
  },
  {
   "cell_type": "code",
   "execution_count": 3,
   "metadata": {},
   "outputs": [
    {
     "name": "stdout",
     "output_type": "stream",
     "text": [
      "134 linescan datasets available\n",
      "129 training linescan datasets available\n",
      "37 linescans with matching polygons\n",
      "28.7% of linescans used\n",
      "45.0% of polygons used\n"
     ]
    }
   ],
   "source": [
    "s = Threshold()\n",
    "s.match_data()"
   ]
  },
  {
   "cell_type": "code",
   "execution_count": 13,
   "metadata": {},
   "outputs": [
    {
     "name": "stdout",
     "output_type": "stream",
     "text": [
      " 180.00    1.00    5.7249e-02\n",
      " 180.00    100.00    5.6649e-02\n",
      " 220.00    100.00    5.6538e-02\n",
      " 220.00    199.00    5.8437e-02\n",
      " 190.00    50.50    5.6451e-02\n",
      " 230.00    50.50    5.6722e-02\n",
      " 192.50    87.62    5.6259e-02\n",
      " 162.50    38.12    5.6608e-02\n",
      " 205.62    84.53    5.6353e-02\n",
      " 208.12    121.66    5.6638e-02\n",
      " 194.53    68.29    5.6357e-02\n",
      " 203.59    103.87    5.6354e-02\n",
      " 201.33    94.97    5.6326e-02\n",
      " 188.20    98.07    5.6288e-02\n",
      " 179.38    90.72    5.6345e-02\n",
      " 195.84    93.91    5.6127e-02\n",
      " 200.14    83.47    5.6252e-02\n",
      " 203.48    89.75    5.6294e-02\n",
      " 195.24    88.16    5.6216e-02\n",
      " 190.95    98.60    5.6238e-02\n",
      " 193.24    94.82    5.6157e-02\n",
      " 193.84    100.57    5.6222e-02\n",
      " 194.89    91.26    5.6186e-02\n",
      " 194.19    97.47    5.6151e-02\n",
      " 196.79    96.56    5.6153e-02\n",
      " 195.90    96.12    5.6152e-02\n",
      " 194.13    95.25    5.6126e-02\n",
      " 193.24    94.82    5.6157e-02\n",
      " 195.78    91.70    5.6180e-02\n",
      " 194.59    96.02    5.6161e-02\n",
      " 194.98    94.58    5.6156e-02\n",
      " 194.16    96.36    5.6161e-02\n",
      " 194.95    93.47    5.6134e-02\n",
      " 194.10    94.14    5.6156e-02\n",
      " 194.76    94.47    5.6156e-02\n",
      " 194.54    94.36    5.6156e-02\n",
      " 194.56    94.92    5.6156e-02\n",
      " 194.11    94.70    5.6156e-02\n",
      " 194.45    94.86    5.6156e-02\n",
      " 194.34    94.81    5.6156e-02\n",
      " 194.34    95.08    5.6126e-02\n",
      " 194.14    95.53    5.6126e-02\n",
      " 194.19    95.35    5.6126e-02\n",
      " 194.29    94.99    5.6156e-02\n",
      " 194.21    95.26    5.6126e-02\n",
      " 194.24    95.17    5.6126e-02\n",
      " 194.16    95.30    5.6126e-02\n",
      " 194.21    95.12    5.6126e-02\n",
      " 194.17    95.25    5.6126e-02\n",
      " 194.18    95.21    5.6126e-02\n",
      " 194.14    95.28    5.6126e-02\n",
      " 194.17    95.19    5.6126e-02\n",
      " 194.15    95.25    5.6126e-02\n",
      " 194.16    95.23    5.6126e-02\n",
      " 194.14    95.26    5.6126e-02\n",
      " 194.15    95.22    5.6126e-02\n",
      " 194.14    95.25    5.6126e-02\n",
      " 194.14    95.24    5.6126e-02\n",
      " 194.13    95.26    5.6126e-02\n",
      " 194.14    95.23    5.6126e-02\n",
      " 194.14    95.25    5.6126e-02\n",
      " 194.14    95.25    5.6126e-02\n",
      " 194.13    95.25    5.6126e-02\n",
      " 194.13    95.24    5.6126e-02\n",
      " 194.13    95.25    5.6126e-02\n",
      " 194.13    95.25    5.6126e-02\n",
      " 194.13    95.25    5.6126e-02\n",
      " 194.13    95.25    5.6126e-02\n",
      " 194.13    95.25    5.6126e-02\n",
      " 194.13    95.25    5.6126e-02\n",
      " 194.13    95.25    5.6126e-02\n",
      " 194.13    95.25    5.6126e-02\n",
      " 194.13    95.25    5.6126e-02\n",
      " 194.13    95.25    5.6126e-02\n",
      " 194.13    95.25    5.6126e-02\n",
      " 194.13    95.25    5.6126e-02\n",
      " 194.13    95.25    5.6126e-02\n",
      " 194.13    95.25    5.6126e-02\n",
      " 194.13    95.25    5.6126e-02\n",
      " 194.13    95.25    5.6126e-02\n",
      " 194.13    95.25    5.6126e-02\n",
      " 194.13    95.25    5.6126e-02\n",
      " 194.13    95.25    5.6126e-02\n",
      " 194.13    95.25    5.6126e-02\n",
      " 194.13    95.25    5.6126e-02\n",
      " 194.13    95.25    5.6126e-02\n",
      " 194.13    95.25    5.6126e-02\n",
      " 194.13    95.25    5.6126e-02\n",
      " 194.13    95.25    5.6126e-02\n",
      " 194.13    95.25    5.6126e-02\n",
      " 194.13    95.25    5.6126e-02\n",
      "Optimization terminated successfully.\n",
      "         Current function value: 0.056126\n",
      "         Iterations: 32\n",
      "         Function evaluations: 91\n",
      "[194.13009644  95.25136566]\n"
     ]
    }
   ],
   "source": [
    "from scipy import optimize\n",
    "import numpy as np\n",
    "\n",
    "def f(params):\n",
    "    t, kc = params\n",
    "\n",
    "    s.set_threshold(t)\n",
    "    s.set_close_kernel(kc)\n",
    "    error = s.error_fraction()\n",
    "    \n",
    "    print('{0: 3.2f}   {1: 3.2f}   {2: 3.4e}'.format(t, kc, error))\n",
    "\n",
    "    return error\n",
    "    \n",
    "initial_guess = [195, 64]\n",
    "initial_simplex = np.zeros((3, 2))\n",
    "initial_simplex[0,:] = [180, 1]\n",
    "initial_simplex[1,:] = [180, 100]\n",
    "initial_simplex[2,:] = [220, 100]\n",
    "\n",
    "result = optimize.minimize(f, initial_guess, method='Nelder-Mead', options={'disp': True, 'initial_simplex': initial_simplex})\n",
    "\n",
    "fitted_params = result.x\n",
    "print(fitted_params)\n",
    "    "
   ]
  },
  {
   "cell_type": "markdown",
   "metadata": {},
   "source": [
    "### Save the submission file"
   ]
  },
  {
   "cell_type": "code",
   "execution_count": 15,
   "metadata": {},
   "outputs": [],
   "source": [
    "# s.set_threshold(194)\n",
    "# s.set_close_kernel(95)\n",
    "# s.error_fraction()\n",
    "s.generate_submission(f'submission_threshold_194_kc_95.csv')"
   ]
  },
  {
   "cell_type": "code",
   "execution_count": null,
   "metadata": {},
   "outputs": [],
   "source": []
  }
 ],
 "metadata": {
  "kernelspec": {
   "display_name": "Python 3",
   "language": "python",
   "name": "python3"
  },
  "language_info": {
   "codemirror_mode": {
    "name": "ipython",
    "version": 3
   },
   "file_extension": ".py",
   "mimetype": "text/x-python",
   "name": "python",
   "nbconvert_exporter": "python",
   "pygments_lexer": "ipython3",
   "version": "3.6.9"
  }
 },
 "nbformat": 4,
 "nbformat_minor": 4
}
